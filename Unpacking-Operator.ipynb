{
  "metadata": {
    "kernelspec": {
      "name": "python",
      "display_name": "Python (Pyodide)",
      "language": "python"
    },
    "language_info": {
      "codemirror_mode": {
        "name": "python",
        "version": 3
      },
      "file_extension": ".py",
      "mimetype": "text/x-python",
      "name": "python",
      "nbconvert_exporter": "python",
      "pygments_lexer": "ipython3",
      "version": "3.8"
    }
  },
  "nbformat_minor": 5,
  "nbformat": 4,
  "cells": [
    {
      "id": "955bcc00-eb95-43c4-bbe7-6049752d40ec",
      "cell_type": "markdown",
      "source": "# Unpacking Operator",
      "metadata": {}
    },
    {
      "id": "9b31ef2e-ba1c-43e1-88c2-e1674938dc83",
      "cell_type": "markdown",
      "source": "In Python, the *f syntax typically refers to the use of the unpacking operator * with an iterable named f (but it can be any iterable, not just f). Here are some common examples of how * is used:",
      "metadata": {}
    },
    {
      "id": "7d47d656-a359-42aa-ba4f-9b30d1223ec1",
      "cell_type": "markdown",
      "source": "## 1. Unpacking arguments in function calls",
      "metadata": {}
    },
    {
      "id": "c7b559eb-0ade-4775-9690-994c9e7bb73a",
      "cell_type": "code",
      "source": "def add(a, b, c):\n    return a + b + c\n\nf = [1, 2, 3]\nresult = add(*f)  # Equivalent to add(1, 2, 3)\nprint(result)     # Output: 6",
      "metadata": {
        "trusted": true
      },
      "outputs": [
        {
          "name": "stdout",
          "output_type": "stream",
          "text": "6\n"
        }
      ],
      "execution_count": 1
    },
    {
      "id": "3c839c23-9995-4203-999d-c498ea6c1a20",
      "cell_type": "markdown",
      "source": "## 2. Unpacking in list literals",
      "metadata": {}
    },
    {
      "id": "010559f1-48ea-4bd3-af6b-118ede722338",
      "cell_type": "code",
      "source": "f = [1, 2, 3]\ng = [*f, 4, 5]\nprint(g)  # Output: [1, 2, 3, 4, 5]",
      "metadata": {
        "trusted": true
      },
      "outputs": [
        {
          "name": "stdout",
          "output_type": "stream",
          "text": "[1, 2, 3, 4, 5]\n"
        }
      ],
      "execution_count": 2
    },
    {
      "id": "bd552560-ce96-405c-b23e-915713fcbe4d",
      "cell_type": "markdown",
      "source": "## 3. Unpacking in function definitions (collecting extra positional arguments)",
      "metadata": {}
    },
    {
      "id": "30ae8c0d-65b4-4e5e-92e0-f49bf7828996",
      "cell_type": "code",
      "source": "def print_all(*f):\n    for item in f:\n        print(item)\n\nprint_all(1, 2, 3)  # Prints 1 2 3, each on its own line",
      "metadata": {
        "trusted": true
      },
      "outputs": [
        {
          "name": "stdout",
          "output_type": "stream",
          "text": "1\n2\n3\n"
        }
      ],
      "execution_count": 3
    },
    {
      "id": "8345a7a5-f10c-4614-aa19-b34383331d40",
      "cell_type": "markdown",
      "source": "## 4. Unpacking in assignment",
      "metadata": {}
    },
    {
      "id": "017e28dc-2ab7-40e0-a831-7924a6a0a6e0",
      "cell_type": "code",
      "source": "f = [1, 2, 3, 4]\na, *b, c = f\nprint(a)  # Output: 1\nprint(b)  # Output: [2, 3]\nprint(c)  # Output: 4",
      "metadata": {
        "trusted": true
      },
      "outputs": [
        {
          "name": "stdout",
          "output_type": "stream",
          "text": "1\n[2, 3]\n4\n"
        }
      ],
      "execution_count": 4
    },
    {
      "id": "08ebef76-7493-4c25-b85b-8fa0674abf46",
      "cell_type": "markdown",
      "source": "# [Python Deep Dives Context](./README.md)",
      "metadata": {}
    }
  ]
}