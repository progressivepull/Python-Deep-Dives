{
  "metadata": {
    "kernelspec": {
      "name": "python",
      "display_name": "Python (Pyodide)",
      "language": "python"
    },
    "language_info": {
      "codemirror_mode": {
        "name": "python",
        "version": 3
      },
      "file_extension": ".py",
      "mimetype": "text/x-python",
      "name": "python",
      "nbconvert_exporter": "python",
      "pygments_lexer": "ipython3",
      "version": "3.8"
    }
  },
  "nbformat_minor": 5,
  "nbformat": 4,
  "cells": [
    {
      "id": "5e87d50c-5279-4e9d-abaa-2f36fc1ec6d4",
      "cell_type": "markdown",
      "source": "#  Slicing",
      "metadata": {}
    },
    {
      "id": "5617c121-c000-4513-a920-728e97641ba3",
      "cell_type": "markdown",
      "source": "Slicing in Python allows for extracting portions of arrays (including multi-dimensional ones) using a concise syntax. Here's a breakdown with",
      "metadata": {}
    },
    {
      "id": "4faced6d-17cb-4fad-a75c-16a1c6aa5614",
      "cell_type": "markdown",
      "source": "## 1. Basic Slicing\n* **array[start:end]** extracts elements from start (inclusive) to end (exclusive).\n* **array[start:]**  extracts elements from start to the end.\n* **array[:end]**  extracts elements from the beginning to end (exclusive).\n* **array[:]**  creates a copy of the entire array.\n* **array[start:end:step]**  extracts elements with a specified step.",
      "metadata": {}
    },
    {
      "id": "9637a593-c958-4c0a-8faf-9340f0b03392",
      "cell_type": "markdown",
      "source": "## 2. Multi-Dimensional Slicing\n* **For a 2D array (matrix),**  the syntax is array[row_slice, col_slice].\n* **array[row_start:row_end,**  col_start:col_end] extracts a submatrix.\n* **array[row_index, :]**  extracts all columns for a specific row.\n* **array[:, col_index]**  extracts all rows for a specific column.",
      "metadata": {}
    },
    {
      "id": "4b687510-dffc-4ffe-ad16-00de01340db1",
      "cell_type": "code",
      "source": "import numpy as np",
      "metadata": {
        "trusted": true
      },
      "outputs": [],
      "execution_count": 2
    },
    {
      "id": "8378c6a1-652f-45ca-bd4b-5698a50cb47c",
      "cell_type": "markdown",
      "source": "## String ",
      "metadata": {}
    },
    {
      "id": "5da8566b-7e82-449a-8f79-57ebb33c6c76",
      "cell_type": "code",
      "source": "    my_string = \"Hello, World!\"\n    print(my_string[7:])  # Output: World!\n    print(my_string[:5])  # Output: Hello\n    print(my_string[::2]) # Output: Hlo ol!",
      "metadata": {
        "trusted": true
      },
      "outputs": [
        {
          "name": "stdout",
          "output_type": "stream",
          "text": "World!\nHello\nHlo ol!\n"
        }
      ],
      "execution_count": 5
    },
    {
      "id": "d966112a-4b15-446b-8dbe-7914f83e0e9f",
      "cell_type": "markdown",
      "source": "## Slice Function",
      "metadata": {}
    },
    {
      "id": "ad5eb5d5-ba13-4ef3-bcec-cda572701b3e",
      "cell_type": "code",
      "source": "    my_slice = slice(1, 5, 2)\n    my_list = [10, 20, 30, 40, 50, 60]\n    print(my_list[my_slice]) # Output: [20, 40]",
      "metadata": {
        "trusted": true
      },
      "outputs": [
        {
          "name": "stdout",
          "output_type": "stream",
          "text": "[20, 40]\n"
        }
      ],
      "execution_count": 7
    },
    {
      "id": "4a60bd00-efe6-49aa-9714-b528bdff4734",
      "cell_type": "markdown",
      "source": "## 1D Array",
      "metadata": {}
    },
    {
      "id": "1bd63060-b2de-49ae-bf13-fe9e8dea5d04",
      "cell_type": "code",
      "source": "    my_list = [1, 2, 3, 4, 5, 6]\n    print(my_list[1:4])  # Output: [2, 3, 4]\n    print(my_list[::2])  # Output: [1, 3, 5]\n    print(my_list[::-1]) # Output: [6, 5, 4, 3, 2, 1]",
      "metadata": {
        "trusted": true
      },
      "outputs": [
        {
          "name": "stdout",
          "output_type": "stream",
          "text": "[2, 3, 4]\n[1, 3, 5]\n[6, 5, 4, 3, 2, 1]\n"
        }
      ],
      "execution_count": 6
    },
    {
      "id": "c84ba9fb-ebb0-41b0-a386-28bdd8d3f822",
      "cell_type": "markdown",
      "source": "## 1D Array",
      "metadata": {}
    },
    {
      "id": "92369fc7-f1e0-4700-bebe-d5d27b1ef56b",
      "cell_type": "code",
      "source": "arr_1d = np.array([1, 2, 3, 4, 5, 6, 7, 8, 9])\nprint(arr_1d[2:5])   # Output: [3 4 5]\nprint(arr_1d[:4])   # Output: [1 2 3 4]\nprint(arr_1d[5:])   # Output: [6 7 8 9]\nprint(arr_1d[1:8:2])  # Output: [2 4 6 8]",
      "metadata": {
        "trusted": true
      },
      "outputs": [
        {
          "name": "stdout",
          "output_type": "stream",
          "text": "[3 4 5]\n[1 2 3 4]\n[6 7 8 9]\n[2 4 6 8]\n"
        }
      ],
      "execution_count": 9
    },
    {
      "id": "ac7da26f-0d1e-4149-a265-130a647fbd01",
      "cell_type": "markdown",
      "source": "## 2D Array",
      "metadata": {}
    },
    {
      "id": "603786ec-ad5e-4bc1-832b-c0e8a666c6f8",
      "cell_type": "code",
      "source": "arr_2d = np.array([[1, 2, 3], [4, 5, 6], [7, 8, 9]])\nprint(arr_2d[0:2, 1:3]) # Output: [[2 3] [5 6]]\nprint(arr_2d[1, :])    # Output: [4 5 6]\nprint(arr_2d[:, 2])    # Output: [3 6 9]",
      "metadata": {
        "trusted": true
      },
      "outputs": [
        {
          "name": "stdout",
          "output_type": "stream",
          "text": "[[2 3]\n [5 6]]\n[4 5 6]\n[3 6 9]\n"
        }
      ],
      "execution_count": 10
    },
    {
      "id": "04ec5f64-15b7-44f7-bb2c-10f2d86e8e44",
      "cell_type": "markdown",
      "source": "## 2D Array",
      "metadata": {}
    },
    {
      "id": "3f59f211-a02e-4dc1-ad03-77b65414e16d",
      "cell_type": "code",
      "source": "arr_3 = np.array([[0, 1, 2, 3, 4, 5], [6, 7, 8,9, 10, 11], [12, 13, 14, 15, 16,17],[18,19,20,21,22,23]])\n\nprint( arr_3[0:3,1:3])",
      "metadata": {
        "trusted": true
      },
      "outputs": [
        {
          "name": "stdout",
          "output_type": "stream",
          "text": "[[ 1  2]\n [ 7  8]\n [13 14]]\n"
        }
      ],
      "execution_count": 17
    },
    {
      "id": "c0b4815c-cf29-4584-9e6f-67430cb54676",
      "cell_type": "markdown",
      "source": "## Explanation Traingle:\n\n* triangle is usually a 2D NumPy array (or similar data structure).\n* triangle[:, 1] selects all rows (:), but only the second column (1 since Python uses zero-based indexing).\n    \n## Typical Name:\n\n* If triangle contains points (like in 2D geometry), columns might represent coordinates:\n - triangle[:, 0] — the x-coordinates of the triangle’s vertices.\n - triangle[:, 1] — the y-coordinates of the triangle’s vertices.\n     \n## So:\n\n* triangle[:, 1] is commonly called the \"y-coordinates\" (or \"y values\") of the triangle’s vertices.",
      "metadata": {}
    },
    {
      "id": "2b7f9a2d-993f-48fa-9e25-f9bce7b7adc9",
      "cell_type": "code",
      "source": "triangle = np.array([[0, 1], [2, 3], [4, 5]])\nx_coords = triangle[:, 0]  # x-coordinates of the vertices\ny_coords = triangle[:, 1]  # y-coordinates of the vertices\n\n\nprint('Triangle' + str(triangle) ) \n\nprint ('X:' + str(x_coords))\nprint ('Y:' + str(y_coords) )",
      "metadata": {
        "trusted": true
      },
      "outputs": [
        {
          "name": "stdout",
          "output_type": "stream",
          "text": "Triangle[[0 1]\n [2 3]\n [4 5]]\nX:[0 2 4]\nY:[1 3 5]\n"
        }
      ],
      "execution_count": 3
    },
    {
      "id": "c23a6300-1b40-4a16-817b-faa0d37812b3",
      "cell_type": "markdown",
      "source": "# [Python Deep Dives Context](./README.md)",
      "metadata": {}
    }
  ]
}