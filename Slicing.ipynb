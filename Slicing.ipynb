{
  "metadata": {
    "kernelspec": {
      "name": "python",
      "display_name": "Python (Pyodide)",
      "language": "python"
    },
    "language_info": {
      "codemirror_mode": {
        "name": "python",
        "version": 3
      },
      "file_extension": ".py",
      "mimetype": "text/x-python",
      "name": "python",
      "nbconvert_exporter": "python",
      "pygments_lexer": "ipython3",
      "version": "3.8"
    }
  },
  "nbformat_minor": 5,
  "nbformat": 4,
  "cells": [
    {
      "id": "5e87d50c-5279-4e9d-abaa-2f36fc1ec6d4",
      "cell_type": "markdown",
      "source": "#  Slicing",
      "metadata": {}
    },
    {
      "id": "c0b4815c-cf29-4584-9e6f-67430cb54676",
      "cell_type": "markdown",
      "source": "## Explanation:\n\n* triangle is usually a 2D NumPy array (or similar data structure).\n* triangle[:, 1] selects all rows (:), but only the second column (1 since Python uses zero-based indexing).\n    \n## Typical Name:\n\n* If triangle contains points (like in 2D geometry), columns might represent coordinates:\n - triangle[:, 0] — the x-coordinates of the triangle’s vertices.\n - triangle[:, 1] — the y-coordinates of the triangle’s vertices.\n     \n## So:\n\n* triangle[:, 1] is commonly called the \"y-coordinates\" (or \"y values\") of the triangle’s vertices.",
      "metadata": {}
    },
    {
      "id": "2b7f9a2d-993f-48fa-9e25-f9bce7b7adc9",
      "cell_type": "code",
      "source": "import numpy as np\ntriangle = np.array([[0, 1], [2, 3], [4, 5]])\nx_coords = triangle[:, 0]  # x-coordinates of the vertices\ny_coords = triangle[:, 1]  # y-coordinates of the vertices\n\n\nprint('Triangle' + str(triangle) ) \n\nprint ('X:' + str(x_coords))\nprint ('Y:' + str(y_coords) )",
      "metadata": {
        "trusted": true
      },
      "outputs": [
        {
          "name": "stdout",
          "output_type": "stream",
          "text": "Triangle[[0 1]\n [2 3]\n [4 5]]\nX:[0 2 4]\nY:[1 3 5]\n"
        }
      ],
      "execution_count": 5
    },
    {
      "id": "c23a6300-1b40-4a16-817b-faa0d37812b3",
      "cell_type": "markdown",
      "source": "# [Python Deep Dives Context](./README.md)",
      "metadata": {}
    }
  ]
}